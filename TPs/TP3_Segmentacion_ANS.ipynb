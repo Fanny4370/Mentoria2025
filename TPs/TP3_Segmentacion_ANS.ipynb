{
 "cells": [
  {
   "cell_type": "markdown",
   "metadata": {
    "id": "Bp5n5oBRc3b9"
   },
   "source": [
    "# DiploDatos 2025- Mentoría \" ¿Cómo clasfico a mis clientes? ML aplicado a un caso de negocio financiero\""
   ]
  },
  {
   "cell_type": "markdown",
   "metadata": {
    "id": "Ar8TjlEkr_LM"
   },
   "source": [
    "## <font color=blue> Trabajo Practico N° 3\n",
    "\n",
    "## Mentoría \" Customizing offers: ¿Cómo clasifico a mis clientes? Machine Learning aplicado a un caso de negocio financiero\""
   ]
  },
  {
   "cell_type": "markdown",
   "metadata": {
    "id": "UUBWUPqGxxUb"
   },
   "source": [
    "## Aprendizaje No Supervisado\n",
    "\n",
    "### Entregable\n",
    "● los invito a desarrollar cada punto en la Notebook compartida para tal fin, será mas fácil y les sirve de guía.\n",
    "\n",
    "● Se debe subir el entregable a un repositorio GitHub o enviar el link a un Google Colab.\n",
    "\n",
    "● Si bien seguramente se harán muchos análisis de diversos tipos y consideraciones, solo se debe dejar en la Notebook  a entregar aquellos análisis que sean relevantes y que consideren de importancia según el tema a presentar. \n",
    "\n",
    "● Recuerden siempre que luego de cada gráfico, cálculo es importante describir brevemente que es lo que se está haciendo  y si son gráficos a que conclusión han llegado para expresar los comprendido y el nivel de profundidad alcanzada de los contenidos teóricos impartidos.\n",
    "\n"
   ]
  },
  {
   "cell_type": "markdown",
   "metadata": {},
   "source": [
    "### Input\n",
    "Se deberá considerar como input para esta Notebook el df obtenido del práctico anterior, el cual ya se encuentra limpio, sin nulos, cuyas variables ya tuvieron análisis de correlación, etc.\n",
    "Se deberá realizar un breve análisis descriptivo y exploratorio de las variables contenidas, sumar lo ya aprendido en los TP1 Y TP2, y aplicar los distintos métodos y técnicas aprendido en clases haciendo foco en la ejecución de los mismos, más allá de los resultados que se puedan obtener, lo esencial es com-prender los pasos que son necesarios realizar para el buen desarrollo del modelo."
   ]
  },
  {
   "cell_type": "markdown",
   "metadata": {},
   "source": [
    "### Preparación de los datos para aplicar modelos de clústering.\n",
    "\n",
    "Realizar visualizaciones de variables que nos permitan identificar grupos de clientes de similar compor-tamiento con respecto a la transaccionalidad y a sus productos. Nos podemos preguntar:\n",
    "\n",
    " ¿podemos identificar cuales son las preferencias de los clientes?\n",
    " \n",
    "¿es posible identificar algún tipo de agrupamiento según determinadas variables? \n",
    "\n",
    "Crear el mejor cliente, para ver donde se ubican los restantes.\n",
    "\n",
    "Realizarse más preguntas que ayuden a identificar aquellas variables que puedan contribuir al modelo.\n",
    "\n",
    "Se puede utilizar varios tipos de librería para estas graficas: pairplot, matplotlib.pyplot.\n"
   ]
  },
  {
   "cell_type": "markdown",
   "metadata": {},
   "source": [
    "### Creación de modelos \n",
    "\n",
    "Una vez definidas las variables, como primer aproximación aplicamos método de K-means, buscando un número óptimo de clusters y analizarlos.\n",
    "\n",
    "Luego seleccionamos otros modelos de aprendizaje supervisado como por ejemplo: modelos de clustering:t-SNE, Mean-Shift, DEBSCAN, ¿Qué otros modelos hay?\n",
    "\n",
    "Una vez seleccionados los modelos realizar distintas pruebas de hiperparámetros de cada modelo y elegir uno.\n",
    "\n",
    "Debemos entender los resultados obtenidos de la clusterizacion, explicar  los agrupamientos encontrados, ¿estos descubrimientos sumaran a la organización?  \n",
    "\n"
   ]
  },
  {
   "cell_type": "markdown",
   "metadata": {},
   "source": [
    "#### Pueden acceder a los links:\n",
    "\n",
    "https://scikit-learn.org/stable/modules/generated/sklearn.cluster.KMeans.html"
   ]
  }
 ],
 "metadata": {
  "colab": {
   "provenance": []
  },
  "kernelspec": {
   "display_name": "Python 3 (ipykernel)",
   "language": "python",
   "name": "python3"
  },
  "language_info": {
   "codemirror_mode": {
    "name": "ipython",
    "version": 3
   },
   "file_extension": ".py",
   "mimetype": "text/x-python",
   "name": "python",
   "nbconvert_exporter": "python",
   "pygments_lexer": "ipython3",
   "version": "3.9.7"
  }
 },
 "nbformat": 4,
 "nbformat_minor": 1
}
