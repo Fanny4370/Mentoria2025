{
 "cells": [
  {
   "cell_type": "markdown",
   "metadata": {
    "id": "Bp5n5oBRc3b9"
   },
   "source": [
    "# DiploDatos 2025- Mentoría \" ¿Cómo clasfico a mis clientes? ML aplicado a un caso de negocio financiero\""
   ]
  },
  {
   "cell_type": "markdown",
   "metadata": {
    "id": "Ar8TjlEkr_LM"
   },
   "source": [
    "## <font color=blue> Trabajo Practico N° 2\n",
    "\n",
    "## Mentoría \" Customizing offers: ¿Cómo clasifico a mis clientes? Machine Learning aplicado a un caso de negocio financiero\""
   ]
  },
  {
   "cell_type": "markdown",
   "metadata": {
    "id": "UUBWUPqGxxUb"
   },
   "source": [
    "## Análisis Exploratorio y Curación de datos:\n",
    "\n",
    "### Identificación de valores nulos, outliers o erróneos\n",
    "a.\tAnalizar las variables que contienen datos nulos, identificar el motivo, ¿se debió a un error en el procesamiento de los datos? Analizar el dato Fecha Ultimo Movimiento, ¿esta considerado como un dato fecha? ¿nos puede ayudar a nuestro objetivo de segmentacion de clientes?\n",
    "\n",
    "b.\tAnalizar qué porcentaje de nulos representa con respecto al total de registros de la muestra, algunos datos serán relevantes otros no. Analizar la consistencia de las variables, ¿es correcto que algunos clientes no tengan cuenta corriente? \n",
    "\n",
    "c.\tEstudiar la metodología: imputación, eliminación o predecirlos, elija la más adecuada para reem-plazar los datos faltantes y proceder a su reemplazo.\n",
    "\n",
    "d.\tAnalizar los datos outliers y determinar si se debió a un error de procesamiento o no, identificar el motivo. Analizar si es correcto considerarlos o no.  Realizar las graficas mas adecuadas que permitan reflejar estas situaciones  y den soporte a su decisión. \n",
    "\n",
    "e.\tDebatir posibles motivos por los que se tenga datos erróneos, outliers, nulos y definir una políti-ca a seguir para su curación/reemplazo bajo un criterio que se encuentre documentado. \n",
    "\n",
    "#### Recordar que nunca se debe modificar los datos crudos u originales, primero se debe hacer una copia del df."
   ]
  },
  {
   "cell_type": "markdown",
   "metadata": {},
   "source": [
    "### Creacion de Variables (feature-engineering)\n",
    " En esta sección se realizara un análisis de posibles nuevas variables en funcion a la transformación de datos existentes a fin que pueda contribuir al modelo a diseñar.\n",
    " \n",
    "Para ello puede utilizar distintas técnicas como por ejemplo, crear nuevas variables: \n",
    "\n",
    "a.\tTotal de débitos y total de créditos \n",
    "\n",
    "b.\tMedia por cada Tipo de Transaccion: media de depósito, media de transferencia enviada, trans-ferencia recibida, etc.\n",
    "\n",
    "c.\tCantidad de transacciones por cliente\n",
    "\n",
    "d.\tPromedio mensual de transacciones por cliente\n",
    "\n",
    "e.\tProporcion de transaccionalidad por cliente \n",
    "\n",
    "Siéntanse libres a la hora de definir nuevas variables, pues estas ayudaran al modelo a predecir mejor.\n",
    "\n",
    "Otra de las técnicas es la utilización del método PCA (análisis de componentes principales) para incluir nuevas variables.\n",
    "\n",
    "Para la utilización de este método se debe recordar lo siguiente, muchas veces nos enfrentamos con bases de datos cuyas variables se miden en distintas unidades. Por ejemplo para este set de datos tenemos variables que representan saldos y otras que tienen valores discretos o incluso valores dicotómicos (0 o 1). Puede que midamos el saldo de caja de ahorro de los clientes de la base de datos en pesos (valores rondando los 160 mil pesos la media) y a la vez la cantidad de productos que tiene cada uno  (valores rondando 1 o 2, etc). Como el desvío estándar se mide en las mismas unidades que la variable, una unidad de desvío estándar para el saldo no nos dice la misma información que una unidad de desvío estándar para la cantidad de productos.\n",
    "\n",
    "Esto puede llegar a ser un problema a la hora de utilizar PCA, ya que las escalas de las varia-bles pueden ser muy distintas y por lo tanto pueden gobernar la forma de la nube de datos. Las compo-nentes principales se alinearán entonces a los ejes de las variables con mayor rango de escala, que a lo mejor no son las variables de mayor variabilidad respecto a su valor medio. Es por esto que se suelen estandarizar los datos previo a implementar el PCA.\n"
   ]
  },
  {
   "cell_type": "markdown",
   "metadata": {},
   "source": [
    "### Tratamiento de Variables Categoricas\n",
    "\n",
    "Se debe realizar la transformación de las variables categóricas a numéricas para luego, en caso de ser necesaria introducirla al modelo, para ellos exiten varias técnicas: One hot encoding, categorizarlas nu-méricamente, analizar cada una de ellas y seleccionar la adecuada. \n"
   ]
  },
  {
   "cell_type": "markdown",
   "metadata": {},
   "source": [
    "### Correlaciones\n",
    "Realizar una matriz de correlación nos permite identificar aquellas variables que estén fuertemente co-rrelacionadas y que debido a esto se deben eliminar (una por cada par) dado que no contribuirán al mo-delo.  Aquí se debe explicar porque se elimina la variable.\n"
   ]
  },
  {
   "cell_type": "markdown",
   "metadata": {},
   "source": [
    "### Preparacion del DataSet para el modelo\n",
    "Una vez realizado estos pasos tendremos listo el nuevo dataset con las variables transformadas, sin nulos y sin correlaciones, es decir, “limpio” para ser utilizado en nuestro modelo a diseñar."
   ]
  },
  {
   "cell_type": "markdown",
   "metadata": {},
   "source": [
    "Pueden acceder a los links:\n",
    "\n",
    "PCA: https://setosa.io/ev/principal-component-analysis/\n",
    "\n",
    "Pandas: https://pandas.pydata.org/docs/user_guide/index.html\n",
    "\n",
    "Más métodos disponibles en https://pandas.pydata.org/pandas-docs/stable/api.html#api-dataframe-missing \n",
    "\n",
    "http://scikit-learn.org/stable/modules/classes.html#module-sklearn.preprocessing"
   ]
  }
 ],
 "metadata": {
  "colab": {
   "provenance": []
  },
  "kernelspec": {
   "display_name": "Python 3 (ipykernel)",
   "language": "python",
   "name": "python3"
  },
  "language_info": {
   "codemirror_mode": {
    "name": "ipython",
    "version": 3
   },
   "file_extension": ".py",
   "mimetype": "text/x-python",
   "name": "python",
   "nbconvert_exporter": "python",
   "pygments_lexer": "ipython3",
   "version": "3.9.7"
  }
 },
 "nbformat": 4,
 "nbformat_minor": 1
}
